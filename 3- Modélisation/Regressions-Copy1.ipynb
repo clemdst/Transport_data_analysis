{
 "cells": [
  {
   "cell_type": "markdown",
   "id": "12ae1381-7894-4e01-a510-59c72817a32e",
   "metadata": {},
   "source": [
    "# Regressions linéaires\n",
    "*Temps d'éxécution : environ 6-7 minutes*.\n",
    "\n",
    "\n",
    "Dans cette section on essaie de voir si l'on peut, et dans quelle mesure, il est possible de prédire le nombre de validations dans les stations de RER avec les données à notre disposition.\n",
    "\n",
    "## Importation et préparation des données"
   ]
  },
  {
   "cell_type": "code",
   "execution_count": 1,
   "id": "85cfb991-e3ec-4914-9755-602def270f80",
   "metadata": {},
   "outputs": [],
   "source": [
    "import pandas as pd\n",
    "from _jointure_validations_stations import df_jointure_validations_stations\n",
    "from sklearn.model_selection import train_test_split\n",
    "from sklearn.preprocessing import StandardScaler\n",
    "from sklearn.compose import ColumnTransformer\n",
    "from sklearn.pipeline import make_pipeline, Pipeline\n",
    "import re\n",
    "import seaborn as sns\n",
    "from sklearn.linear_model import LinearRegression, Lasso, LassoCV\n",
    "from sklearn.metrics import mean_squared_error, r2_score\n",
    "import numpy as np\n",
    "import matplotlib.pyplot as plt\n",
    "from sklearn.ensemble import RandomForestRegressor"
   ]
  },
  {
   "cell_type": "code",
   "execution_count": 2,
   "id": "ed5b59e5-9fcf-4d49-a90b-7e0ea2be5957",
   "metadata": {},
   "outputs": [
    {
     "name": "stderr",
     "output_type": "stream",
     "text": [
      "ERROR 1: PROJ: proj_create_from_database: Open of /opt/mamba/share/proj failed\n"
     ]
    }
   ],
   "source": [
    "data=df_jointure_validations_stations()"
   ]
  },
  {
   "cell_type": "markdown",
   "id": "cd601fe4-cd49-49f7-a504-f454c05ae8de",
   "metadata": {},
   "source": [
    "On a vue que le titre de transport importe peu : on aggrège donc les données en fonction du `JOUR`et de `nom_long`."
   ]
  },
  {
   "cell_type": "code",
   "execution_count": 12,
   "id": "2b49ae7e-f248-4e8e-91b7-1b707058b28b",
   "metadata": {},
   "outputs": [],
   "source": [
    "aggregation_functions = {'NB_VALD': 'sum'}\n",
    "\n",
    "# Liste avec les colonnes de l'INSEE\n",
    "Insee_columns = [\n",
    "    'ind', 'men', 'men_pauv', 'men_1ind', 'men_5ind', 'men_prop', 'men_fmp', \n",
    "    'ind_snv', 'men_surf', 'men_coll', 'men_mais', 'log_av45', 'log_45_70', \n",
    "    'log_70_90', 'log_ap90', 'log_inc', 'log_soc', 'ind_0_3', 'ind_4_5', \n",
    "    'ind_6_10', 'ind_11_17', 'ind_18_24', 'ind_25_39', 'ind_40_54', \n",
    "    'ind_55_64', 'ind_65_79', 'ind_80p', 'lda', 'res_com'\n",
    "]\n",
    "\n",
    "for column in Insee_columns:\n",
    "    aggregation_functions[column] = 'first'\n",
    "\n",
    "data_jour_stations = data.groupby(['JOUR','nom_long']).agg(aggregation_functions)\n",
    "data_jour_stations=data_jour_stations.reset_index()"
   ]
  },
  {
   "cell_type": "markdown",
   "id": "946dbeea-e5b2-420a-9488-dd7a5b52ee03",
   "metadata": {},
   "source": [
    "Création de dummies en fonction de la ligne de RER."
   ]
  },
  {
   "cell_type": "code",
   "execution_count": 22,
   "id": "c5184d5e-b4b0-4c6b-93bf-efd2912b3ef8",
   "metadata": {},
   "outputs": [],
   "source": [
    "data_jour_stations['RER A'] = data_jour_stations['res_com'].apply(lambda x: 1 if x == 'RER A' else 0)\n",
    "data_jour_stations['RER B'] = data_jour_stations['res_com'].apply(lambda x: 1 if x == 'RER B' else 0)\n",
    "data_jour_stations['RER C'] = data_jour_stations['res_com'].apply(lambda x: 1 if x == 'RER C' else 0)\n",
    "data_jour_stations['RER D'] = data_jour_stations['res_com'].apply(lambda x: 1 if x == 'RER D' else 0)\n",
    "data_jour_stations['RER E'] = data_jour_stations['res_com'].apply(lambda x: 1 if x == 'RER E' else 0)"
   ]
  },
  {
   "cell_type": "code",
   "execution_count": 26,
   "id": "47d75a3e-5014-4af8-ab26-207761b3562b",
   "metadata": {},
   "outputs": [],
   "source": [
    "# Liste des valeurs pour lesquelles RER COR sera 1\n",
    "rer_cor_list = ['RER D, RER A', 'RER C, RER D', 'RER E, RER B, RER D', 'RER A, RER E']\n",
    "\n",
    "# Création de la colonne RER COR\n",
    "data_jour_stations['RER COR'] = data_jour_stations['res_com'].apply(lambda x: 1 if x in rer_cor_list else 0)"
   ]
  },
  {
   "cell_type": "code",
   "execution_count": 27,
   "id": "dcd62f3d-a028-488c-9918-1f351534c9aa",
   "metadata": {},
   "outputs": [
    {
     "data": {
      "text/html": [
       "<div>\n",
       "<style scoped>\n",
       "    .dataframe tbody tr th:only-of-type {\n",
       "        vertical-align: middle;\n",
       "    }\n",
       "\n",
       "    .dataframe tbody tr th {\n",
       "        vertical-align: top;\n",
       "    }\n",
       "\n",
       "    .dataframe thead th {\n",
       "        text-align: right;\n",
       "    }\n",
       "</style>\n",
       "<table border=\"1\" class=\"dataframe\">\n",
       "  <thead>\n",
       "    <tr style=\"text-align: right;\">\n",
       "      <th></th>\n",
       "      <th>JOUR</th>\n",
       "      <th>nom_long</th>\n",
       "      <th>NB_VALD</th>\n",
       "      <th>ind</th>\n",
       "      <th>men</th>\n",
       "      <th>men_pauv</th>\n",
       "      <th>men_1ind</th>\n",
       "      <th>men_5ind</th>\n",
       "      <th>men_prop</th>\n",
       "      <th>men_fmp</th>\n",
       "      <th>...</th>\n",
       "      <th>ind_65_79</th>\n",
       "      <th>ind_80p</th>\n",
       "      <th>lda</th>\n",
       "      <th>res_com</th>\n",
       "      <th>RER A</th>\n",
       "      <th>RER B</th>\n",
       "      <th>RER C</th>\n",
       "      <th>RER D</th>\n",
       "      <th>RER E</th>\n",
       "      <th>RER COR</th>\n",
       "    </tr>\n",
       "  </thead>\n",
       "  <tbody>\n",
       "    <tr>\n",
       "      <th>40</th>\n",
       "      <td>2023-01-01</td>\n",
       "      <td>Gare de Lyon</td>\n",
       "      <td>50846</td>\n",
       "      <td>7920.5</td>\n",
       "      <td>3525.0</td>\n",
       "      <td>450.0</td>\n",
       "      <td>1514.0</td>\n",
       "      <td>301.0</td>\n",
       "      <td>797.0</td>\n",
       "      <td>436.0</td>\n",
       "      <td>...</td>\n",
       "      <td>864.0</td>\n",
       "      <td>266.0</td>\n",
       "      <td>73626</td>\n",
       "      <td>RER D, RER A</td>\n",
       "      <td>0</td>\n",
       "      <td>0</td>\n",
       "      <td>0</td>\n",
       "      <td>0</td>\n",
       "      <td>0</td>\n",
       "      <td>1</td>\n",
       "    </tr>\n",
       "    <tr>\n",
       "      <th>52</th>\n",
       "      <td>2023-01-01</td>\n",
       "      <td>Juvisy</td>\n",
       "      <td>4884</td>\n",
       "      <td>5816.0</td>\n",
       "      <td>2855.9</td>\n",
       "      <td>297.1</td>\n",
       "      <td>1240.0</td>\n",
       "      <td>120.0</td>\n",
       "      <td>1474.0</td>\n",
       "      <td>279.0</td>\n",
       "      <td>...</td>\n",
       "      <td>557.0</td>\n",
       "      <td>283.9</td>\n",
       "      <td>62737</td>\n",
       "      <td>RER C, RER D</td>\n",
       "      <td>0</td>\n",
       "      <td>0</td>\n",
       "      <td>0</td>\n",
       "      <td>0</td>\n",
       "      <td>0</td>\n",
       "      <td>1</td>\n",
       "    </tr>\n",
       "    <tr>\n",
       "      <th>73</th>\n",
       "      <td>2023-01-01</td>\n",
       "      <td>Magenta</td>\n",
       "      <td>33867</td>\n",
       "      <td>27806.0</td>\n",
       "      <td>13477.0</td>\n",
       "      <td>2735.0</td>\n",
       "      <td>6647.0</td>\n",
       "      <td>903.0</td>\n",
       "      <td>4607.0</td>\n",
       "      <td>1333.0</td>\n",
       "      <td>...</td>\n",
       "      <td>2783.0</td>\n",
       "      <td>803.0</td>\n",
       "      <td>71410</td>\n",
       "      <td>RER E, RER B, RER D</td>\n",
       "      <td>0</td>\n",
       "      <td>0</td>\n",
       "      <td>0</td>\n",
       "      <td>0</td>\n",
       "      <td>0</td>\n",
       "      <td>1</td>\n",
       "    </tr>\n",
       "    <tr>\n",
       "      <th>125</th>\n",
       "      <td>2023-01-01</td>\n",
       "      <td>Val de Fontenay</td>\n",
       "      <td>3117</td>\n",
       "      <td>6707.0</td>\n",
       "      <td>2526.0</td>\n",
       "      <td>444.0</td>\n",
       "      <td>722.1</td>\n",
       "      <td>320.0</td>\n",
       "      <td>713.1</td>\n",
       "      <td>458.0</td>\n",
       "      <td>...</td>\n",
       "      <td>779.0</td>\n",
       "      <td>238.0</td>\n",
       "      <td>71718</td>\n",
       "      <td>RER A, RER E</td>\n",
       "      <td>0</td>\n",
       "      <td>0</td>\n",
       "      <td>0</td>\n",
       "      <td>0</td>\n",
       "      <td>0</td>\n",
       "      <td>1</td>\n",
       "    </tr>\n",
       "    <tr>\n",
       "      <th>186</th>\n",
       "      <td>2023-01-02</td>\n",
       "      <td>Gare de Lyon</td>\n",
       "      <td>100659</td>\n",
       "      <td>7920.5</td>\n",
       "      <td>3525.0</td>\n",
       "      <td>450.0</td>\n",
       "      <td>1514.0</td>\n",
       "      <td>301.0</td>\n",
       "      <td>797.0</td>\n",
       "      <td>436.0</td>\n",
       "      <td>...</td>\n",
       "      <td>864.0</td>\n",
       "      <td>266.0</td>\n",
       "      <td>73626</td>\n",
       "      <td>RER D, RER A</td>\n",
       "      <td>0</td>\n",
       "      <td>0</td>\n",
       "      <td>0</td>\n",
       "      <td>0</td>\n",
       "      <td>0</td>\n",
       "      <td>1</td>\n",
       "    </tr>\n",
       "    <tr>\n",
       "      <th>...</th>\n",
       "      <td>...</td>\n",
       "      <td>...</td>\n",
       "      <td>...</td>\n",
       "      <td>...</td>\n",
       "      <td>...</td>\n",
       "      <td>...</td>\n",
       "      <td>...</td>\n",
       "      <td>...</td>\n",
       "      <td>...</td>\n",
       "      <td>...</td>\n",
       "      <td>...</td>\n",
       "      <td>...</td>\n",
       "      <td>...</td>\n",
       "      <td>...</td>\n",
       "      <td>...</td>\n",
       "      <td>...</td>\n",
       "      <td>...</td>\n",
       "      <td>...</td>\n",
       "      <td>...</td>\n",
       "      <td>...</td>\n",
       "      <td>...</td>\n",
       "    </tr>\n",
       "    <tr>\n",
       "      <th>26433</th>\n",
       "      <td>2023-06-29</td>\n",
       "      <td>Val de Fontenay</td>\n",
       "      <td>26118</td>\n",
       "      <td>6707.0</td>\n",
       "      <td>2526.0</td>\n",
       "      <td>444.0</td>\n",
       "      <td>722.1</td>\n",
       "      <td>320.0</td>\n",
       "      <td>713.1</td>\n",
       "      <td>458.0</td>\n",
       "      <td>...</td>\n",
       "      <td>779.0</td>\n",
       "      <td>238.0</td>\n",
       "      <td>71718</td>\n",
       "      <td>RER A, RER E</td>\n",
       "      <td>0</td>\n",
       "      <td>0</td>\n",
       "      <td>0</td>\n",
       "      <td>0</td>\n",
       "      <td>0</td>\n",
       "      <td>1</td>\n",
       "    </tr>\n",
       "    <tr>\n",
       "      <th>26494</th>\n",
       "      <td>2023-06-30</td>\n",
       "      <td>Gare de Lyon</td>\n",
       "      <td>114605</td>\n",
       "      <td>7920.5</td>\n",
       "      <td>3525.0</td>\n",
       "      <td>450.0</td>\n",
       "      <td>1514.0</td>\n",
       "      <td>301.0</td>\n",
       "      <td>797.0</td>\n",
       "      <td>436.0</td>\n",
       "      <td>...</td>\n",
       "      <td>864.0</td>\n",
       "      <td>266.0</td>\n",
       "      <td>73626</td>\n",
       "      <td>RER D, RER A</td>\n",
       "      <td>0</td>\n",
       "      <td>0</td>\n",
       "      <td>0</td>\n",
       "      <td>0</td>\n",
       "      <td>0</td>\n",
       "      <td>1</td>\n",
       "    </tr>\n",
       "    <tr>\n",
       "      <th>26506</th>\n",
       "      <td>2023-06-30</td>\n",
       "      <td>Juvisy</td>\n",
       "      <td>21100</td>\n",
       "      <td>5816.0</td>\n",
       "      <td>2855.9</td>\n",
       "      <td>297.1</td>\n",
       "      <td>1240.0</td>\n",
       "      <td>120.0</td>\n",
       "      <td>1474.0</td>\n",
       "      <td>279.0</td>\n",
       "      <td>...</td>\n",
       "      <td>557.0</td>\n",
       "      <td>283.9</td>\n",
       "      <td>62737</td>\n",
       "      <td>RER C, RER D</td>\n",
       "      <td>0</td>\n",
       "      <td>0</td>\n",
       "      <td>0</td>\n",
       "      <td>0</td>\n",
       "      <td>0</td>\n",
       "      <td>1</td>\n",
       "    </tr>\n",
       "    <tr>\n",
       "      <th>26528</th>\n",
       "      <td>2023-06-30</td>\n",
       "      <td>Magenta</td>\n",
       "      <td>70337</td>\n",
       "      <td>27806.0</td>\n",
       "      <td>13477.0</td>\n",
       "      <td>2735.0</td>\n",
       "      <td>6647.0</td>\n",
       "      <td>903.0</td>\n",
       "      <td>4607.0</td>\n",
       "      <td>1333.0</td>\n",
       "      <td>...</td>\n",
       "      <td>2783.0</td>\n",
       "      <td>803.0</td>\n",
       "      <td>71410</td>\n",
       "      <td>RER E, RER B, RER D</td>\n",
       "      <td>0</td>\n",
       "      <td>0</td>\n",
       "      <td>0</td>\n",
       "      <td>0</td>\n",
       "      <td>0</td>\n",
       "      <td>1</td>\n",
       "    </tr>\n",
       "    <tr>\n",
       "      <th>26580</th>\n",
       "      <td>2023-06-30</td>\n",
       "      <td>Val de Fontenay</td>\n",
       "      <td>22260</td>\n",
       "      <td>6707.0</td>\n",
       "      <td>2526.0</td>\n",
       "      <td>444.0</td>\n",
       "      <td>722.1</td>\n",
       "      <td>320.0</td>\n",
       "      <td>713.1</td>\n",
       "      <td>458.0</td>\n",
       "      <td>...</td>\n",
       "      <td>779.0</td>\n",
       "      <td>238.0</td>\n",
       "      <td>71718</td>\n",
       "      <td>RER A, RER E</td>\n",
       "      <td>0</td>\n",
       "      <td>0</td>\n",
       "      <td>0</td>\n",
       "      <td>0</td>\n",
       "      <td>0</td>\n",
       "      <td>1</td>\n",
       "    </tr>\n",
       "  </tbody>\n",
       "</table>\n",
       "<p>724 rows × 38 columns</p>\n",
       "</div>"
      ],
      "text/plain": [
       "            JOUR         nom_long  NB_VALD      ind      men  men_pauv  \\\n",
       "40    2023-01-01     Gare de Lyon    50846   7920.5   3525.0     450.0   \n",
       "52    2023-01-01           Juvisy     4884   5816.0   2855.9     297.1   \n",
       "73    2023-01-01          Magenta    33867  27806.0  13477.0    2735.0   \n",
       "125   2023-01-01  Val de Fontenay     3117   6707.0   2526.0     444.0   \n",
       "186   2023-01-02     Gare de Lyon   100659   7920.5   3525.0     450.0   \n",
       "...          ...              ...      ...      ...      ...       ...   \n",
       "26433 2023-06-29  Val de Fontenay    26118   6707.0   2526.0     444.0   \n",
       "26494 2023-06-30     Gare de Lyon   114605   7920.5   3525.0     450.0   \n",
       "26506 2023-06-30           Juvisy    21100   5816.0   2855.9     297.1   \n",
       "26528 2023-06-30          Magenta    70337  27806.0  13477.0    2735.0   \n",
       "26580 2023-06-30  Val de Fontenay    22260   6707.0   2526.0     444.0   \n",
       "\n",
       "       men_1ind  men_5ind  men_prop  men_fmp  ...  ind_65_79  ind_80p    lda  \\\n",
       "40       1514.0     301.0     797.0    436.0  ...      864.0    266.0  73626   \n",
       "52       1240.0     120.0    1474.0    279.0  ...      557.0    283.9  62737   \n",
       "73       6647.0     903.0    4607.0   1333.0  ...     2783.0    803.0  71410   \n",
       "125       722.1     320.0     713.1    458.0  ...      779.0    238.0  71718   \n",
       "186      1514.0     301.0     797.0    436.0  ...      864.0    266.0  73626   \n",
       "...         ...       ...       ...      ...  ...        ...      ...    ...   \n",
       "26433     722.1     320.0     713.1    458.0  ...      779.0    238.0  71718   \n",
       "26494    1514.0     301.0     797.0    436.0  ...      864.0    266.0  73626   \n",
       "26506    1240.0     120.0    1474.0    279.0  ...      557.0    283.9  62737   \n",
       "26528    6647.0     903.0    4607.0   1333.0  ...     2783.0    803.0  71410   \n",
       "26580     722.1     320.0     713.1    458.0  ...      779.0    238.0  71718   \n",
       "\n",
       "                   res_com  RER A  RER B  RER C  RER D  RER E  RER COR  \n",
       "40            RER D, RER A      0      0      0      0      0        1  \n",
       "52            RER C, RER D      0      0      0      0      0        1  \n",
       "73     RER E, RER B, RER D      0      0      0      0      0        1  \n",
       "125           RER A, RER E      0      0      0      0      0        1  \n",
       "186           RER D, RER A      0      0      0      0      0        1  \n",
       "...                    ...    ...    ...    ...    ...    ...      ...  \n",
       "26433         RER A, RER E      0      0      0      0      0        1  \n",
       "26494         RER D, RER A      0      0      0      0      0        1  \n",
       "26506         RER C, RER D      0      0      0      0      0        1  \n",
       "26528  RER E, RER B, RER D      0      0      0      0      0        1  \n",
       "26580         RER A, RER E      0      0      0      0      0        1  \n",
       "\n",
       "[724 rows x 38 columns]"
      ]
     },
     "execution_count": 27,
     "metadata": {},
     "output_type": "execute_result"
    }
   ],
   "source": [
    "data_jour_stations[data_jour_stations['RER COR']==1]"
   ]
  },
  {
   "cell_type": "code",
   "execution_count": 28,
   "id": "4eade672-3016-460f-a14c-081f67aa02c1",
   "metadata": {},
   "outputs": [],
   "source": [
    "data_jour_stations=data_jour_stations[data_jour_stations['RER COR']==0]"
   ]
  },
  {
   "cell_type": "code",
   "execution_count": 29,
   "id": "e9edfe00-0b81-45e6-b7b4-ae3691d8f065",
   "metadata": {},
   "outputs": [
    {
     "data": {
      "text/plain": [
       "(25876, 38)"
      ]
     },
     "execution_count": 29,
     "metadata": {},
     "output_type": "execute_result"
    }
   ],
   "source": [
    "data_jour_stations.shape"
   ]
  },
  {
   "cell_type": "markdown",
   "id": "e03c3770-d9b8-4a1d-b4c7-1cd58cdcbc63",
   "metadata": {},
   "source": [
    "On commence par définir notre variable d'intêret : on essayera de comprendre et prédire le nombre de validations `NB_VALD`. Ensuite on classe nos variables selon qu'elles soient catégorielles ou numériques, et enfin, on les regroupe toutes dans les *features*. On définit également une *seed* pour favoriser la réplicabilité de nos résultats."
   ]
  },
  {
   "cell_type": "code",
   "execution_count": 30,
   "id": "42c44b2b-ce15-4a7d-80c1-5386712d12a0",
   "metadata": {},
   "outputs": [],
   "source": [
    "TARGET_VARIABLE=\"NB_VALD\"\n",
    "CATEGORICAL=[\"RER A\", \"RER B\", \"RER C\", \"RER D\"]\n",
    "NUMERICAL = [x for x in data_jour_stations.columns if x not in ['index', 'level_0', \"RER A\", \"RER B\", \"RER C\", \"RER D\", \"NB_VALD\", \"nom_long\", \"lda\", \"res_com\"]]\n",
    "FEATURES = NUMERICAL + CATEGORICAL\n",
    "SEED=12"
   ]
  },
  {
   "cell_type": "code",
   "execution_count": 31,
   "id": "3ac41c0c-47cf-4441-9934-e8ed3a03950d",
   "metadata": {},
   "outputs": [
    {
     "data": {
      "text/plain": [
       "['JOUR',\n",
       " 'ind',\n",
       " 'men',\n",
       " 'men_pauv',\n",
       " 'men_1ind',\n",
       " 'men_5ind',\n",
       " 'men_prop',\n",
       " 'men_fmp',\n",
       " 'ind_snv',\n",
       " 'men_surf',\n",
       " 'men_coll',\n",
       " 'men_mais',\n",
       " 'log_av45',\n",
       " 'log_45_70',\n",
       " 'log_70_90',\n",
       " 'log_ap90',\n",
       " 'log_inc',\n",
       " 'log_soc',\n",
       " 'ind_0_3',\n",
       " 'ind_4_5',\n",
       " 'ind_6_10',\n",
       " 'ind_11_17',\n",
       " 'ind_18_24',\n",
       " 'ind_25_39',\n",
       " 'ind_40_54',\n",
       " 'ind_55_64',\n",
       " 'ind_65_79',\n",
       " 'ind_80p',\n",
       " 'RER E',\n",
       " 'RER COR',\n",
       " 'RER A',\n",
       " 'RER B',\n",
       " 'RER C',\n",
       " 'RER D']"
      ]
     },
     "execution_count": 31,
     "metadata": {},
     "output_type": "execute_result"
    }
   ],
   "source": [
    "FEATURES"
   ]
  },
  {
   "cell_type": "markdown",
   "id": "6c64972c-f913-44c0-812e-f2f8d46b3304",
   "metadata": {},
   "source": [
    "On divise notre jeu de données en deux parties : la première servira à entrainer le modèle tandis que la deuxième nous permettra de tester son efficacité."
   ]
  },
  {
   "cell_type": "code",
   "execution_count": 32,
   "id": "c1e201dd-9bd3-4ef7-a182-8a0dd9b02c7d",
   "metadata": {},
   "outputs": [],
   "source": [
    "X = data_jour_stations[FEATURES]\n",
    "y = data_jour_stations[TARGET_VARIABLE]\n",
    "X_train, X_test, y_train, y_test = train_test_split(X, y, test_size=0.2, random_state=SEED)"
   ]
  },
  {
   "cell_type": "markdown",
   "id": "0b044dab-36df-41ce-abfb-ff3f22c71d93",
   "metadata": {},
   "source": [
    "## Première regression\n",
    "### Préparation des varaibles et de la regression\n",
    "On commence par sélectionner quelques variables qui se sont montrées pertinantes dans les statistiques descriptives pour faire une première regression.\n",
    "\n",
    "On sélectionne ensuite les données correspondantes aux variables choisies dans l'échantillon d'entrainement et de test. Les données ayant été déjà traitées nous n'avons pas de manipulation supplémentaire à faire ici. Il nous reste simplement à standardiser nos variables."
   ]
  },
  {
   "cell_type": "code",
   "execution_count": 33,
   "id": "2178a9c4-1837-45b7-9558-5aca5f941b5a",
   "metadata": {},
   "outputs": [],
   "source": [
    "CATEGORICAL_REGRESSION = [\"RER A\", \"RER B\", \"RER C\", \"RER D\"]\n",
    "\n",
    "NUMERICAL_REGRESSION = [\"men\",\"men_1ind\", \"men_pauv\", \"men_coll\",\n",
    "                        \"log_av45\", \"ind_25_39\"]\n",
    "\n",
    "FEATURES_REGRESSION = NUMERICAL_REGRESSION + CATEGORICAL_REGRESSION\n",
    "\n",
    "X_train_regression = X_train[FEATURES_REGRESSION]\n",
    "X_test_regression = X_test[FEATURES_REGRESSION]"
   ]
  },
  {
   "cell_type": "markdown",
   "id": "506b24d8-8a72-45a5-a09b-eff79e7d3ca3",
   "metadata": {},
   "source": [
    "On standardise nos données à l'aide de *StandardScaler* puis on modifie l'affichage pour avoir des noms de colonnes lisibles."
   ]
  },
  {
   "cell_type": "code",
   "execution_count": 34,
   "id": "87d022a5-67fb-4988-acc3-667b03953c98",
   "metadata": {},
   "outputs": [],
   "source": [
    "preprocessor_regression = ColumnTransformer(\n",
    "    transformers=[\n",
    "        (\"stand\", StandardScaler(), NUMERICAL_REGRESSION),\n",
    "        (\"cat\",  StandardScaler(), CATEGORICAL_REGRESSION)\n",
    "    ]\n",
    ")"
   ]
  },
  {
   "cell_type": "code",
   "execution_count": 35,
   "id": "1baee06b-963b-4189-b8b6-e8fa71d4ef4d",
   "metadata": {},
   "outputs": [
    {
     "data": {
      "text/plain": [
       "['men',\n",
       " 'men_1ind',\n",
       " 'men_pauv',\n",
       " 'men_coll',\n",
       " 'log_av45',\n",
       " 'ind_25_39',\n",
       " 'RER A',\n",
       " 'RER B',\n",
       " 'RER C',\n",
       " 'RER D']"
      ]
     },
     "execution_count": 35,
     "metadata": {},
     "output_type": "execute_result"
    }
   ],
   "source": [
    "preprocessor_regression.fit(X_train_regression)\n",
    "original_feature_names = [re.sub(r'^.*__', '', item) for item in preprocessor_regression.get_feature_names_out()]\n",
    "original_feature_names"
   ]
  },
  {
   "cell_type": "markdown",
   "id": "d54d5b89-03a6-4d46-a057-306a7e858225",
   "metadata": {},
   "source": [
    "On prépare maintenant un Pipeline pour faire nos régressions."
   ]
  },
  {
   "cell_type": "code",
   "execution_count": 36,
   "id": "76ab3555-b762-47cf-ac10-06e19c431c8d",
   "metadata": {},
   "outputs": [],
   "source": [
    "pipe_lr = Pipeline([\n",
    "    ('preprocessor', preprocessor_regression), # 1ère étape réaliser le preprocessing\n",
    "    ('regression', LinearRegression()) # 2ème étape estime notre régression linéaire\n",
    "])"
   ]
  },
  {
   "cell_type": "markdown",
   "id": "b163b4ad-66f1-4fa5-a631-ee762eacfa99",
   "metadata": {},
   "source": [
    "On peut donc réaliser maintenant notre régression et évaluer la qualité de la prédiction avec le reste de notre jeu de données.\n",
    "### Réalisation de la regression et évaluation du modèle"
   ]
  },
  {
   "cell_type": "code",
   "execution_count": 37,
   "id": "5b0eb4b4-2481-4409-89b4-741f1734e13c",
   "metadata": {},
   "outputs": [
    {
     "name": "stdout",
     "output_type": "stream",
     "text": [
      "Le RMSE sur le jeu de test est : 4470.0112\n",
      "Le R2 sur le jeu de test est : 0.4863\n"
     ]
    }
   ],
   "source": [
    "#modèle de regression\n",
    "lr = pipe_lr.fit(X_train_regression, y_train)\n",
    "coefficients = pipe_lr.named_steps['regression'].coef_\n",
    "column_names = X_train_regression.columns\n",
    "\n",
    "#prediction\n",
    "y_pred = lr.predict(X_test_regression)\n",
    "\n",
    "#calcul des indicateurs\n",
    "rmse = np.sqrt(mean_squared_error(y_test, y_pred))\n",
    "r2 = r2_score(y_test, y_pred)\n",
    "print(f\"Le RMSE sur le jeu de test est : {round(rmse, 4)}\")\n",
    "print(f\"Le R2 sur le jeu de test est : {round(r2, 4)}\")\n",
    "coef_df = pd.DataFrame({\n",
    "    'Feature': column_names,\n",
    "    'Coefficient': coefficients\n",
    "})"
   ]
  },
  {
   "cell_type": "markdown",
   "id": "2520182a-17ce-42b2-a57c-5569e5526d38",
   "metadata": {},
   "source": [
    "Afin d'interpréter ces données nous avons besoin de statistiques sur le nombres validations (`NB_VALD`)"
   ]
  },
  {
   "cell_type": "code",
   "execution_count": 38,
   "id": "aa6f38d5-aa3b-44fa-9085-ea2a5b502cda",
   "metadata": {},
   "outputs": [
    {
     "name": "stdout",
     "output_type": "stream",
     "text": [
      "La variance de NB_VALD de jeu de test est : 38907495.0464\n",
      "La moyenne de NB_VALD de jeu de test est : 5319.1233\n",
      "L'écart interquartile de NB_VALD de jeu de test est : 6722.25\n"
     ]
    }
   ],
   "source": [
    "print(f\"La variance de NB_VALD de jeu de test est : {round(y_test.var(), 4)}\")\n",
    "print(f\"La moyenne de NB_VALD de jeu de test est : {round(y_test.mean(), 4)}\")\n",
    "print(f\"L'écart interquartile de NB_VALD de jeu de test est : {round(y_test.quantile(0.75) - y_test.quantile(0.25), 4)}\")"
   ]
  },
  {
   "cell_type": "markdown",
   "id": "7015c302-38a1-4852-ae83-b652e2cd7a61",
   "metadata": {},
   "source": [
    "Le R² est plutôt bon, particulièrement au vue de la variance de `NB_VALD`. \n",
    "\n",
    "Le RMSE est environ 1,66 fois plus grand que la moyenne : cela veut donc dire que les erreurs sont assez significatives puisque la valeur prédite varie en moyenne de plus ou moins 13 000 validations, alors que le nombre de validations moyen est de presque 8 000. Cela est assez mauvais. Néanmoins, si l'on compare le RMSE avec l'écart interquartile et la variance du nombres de validations on se rend compte que le modèle est assez proche des données en termes de dispersion. Cela indique que la très forte variabilité des données n'est pas bien expliquée par notre modèle (mais qu'il ne donne pas une vision trop \"simpliste\" qui pourrait donner plus de variabilités).\n",
    "\n",
    "Pour finir, on représente les données et on observe les coefficients."
   ]
  },
  {
   "cell_type": "code",
   "execution_count": 39,
   "id": "7f547849-596e-425f-8ed5-6c0bd8339794",
   "metadata": {},
   "outputs": [
    {
     "data": {
      "image/png": "[encoded data removed]",
      "text/plain": [
       "<Figure size 640x480 with 1 Axes>"
      ]
     },
     "metadata": {},
     "output_type": "display_data"
    }
   ],
   "source": [
    "plt.scatter(y_test, y_pred, color='blue', alpha=0.5)\n",
    "\n",
    "plt.xlabel('Nombres de validations réels')\n",
    "plt.ylabel('Nombres de validations prédits')\n",
    "\n",
    "plt.plot([y_test.min(), y_test.max()], [y_test.min(), y_test.max()], color='red', linestyle='--')\n",
    "plt.show()"
   ]
  },
  {
   "cell_type": "code",
   "execution_count": 40,
   "id": "2e34ffce-3780-4549-a182-09e7e92fec26",
   "metadata": {},
   "outputs": [
    {
     "data": {
      "text/html": [
       "<div>\n",
       "<style scoped>\n",
       "    .dataframe tbody tr th:only-of-type {\n",
       "        vertical-align: middle;\n",
       "    }\n",
       "\n",
       "    .dataframe tbody tr th {\n",
       "        vertical-align: top;\n",
       "    }\n",
       "\n",
       "    .dataframe thead th {\n",
       "        text-align: right;\n",
       "    }\n",
       "</style>\n",
       "<table border=\"1\" class=\"dataframe\">\n",
       "  <thead>\n",
       "    <tr style=\"text-align: right;\">\n",
       "      <th></th>\n",
       "      <th>Feature</th>\n",
       "      <th>Coefficient</th>\n",
       "    </tr>\n",
       "  </thead>\n",
       "  <tbody>\n",
       "    <tr>\n",
       "      <th>0</th>\n",
       "      <td>men</td>\n",
       "      <td>-8528.279411</td>\n",
       "    </tr>\n",
       "    <tr>\n",
       "      <th>1</th>\n",
       "      <td>men_1ind</td>\n",
       "      <td>5565.617001</td>\n",
       "    </tr>\n",
       "    <tr>\n",
       "      <th>2</th>\n",
       "      <td>men_pauv</td>\n",
       "      <td>2036.121318</td>\n",
       "    </tr>\n",
       "    <tr>\n",
       "      <th>3</th>\n",
       "      <td>men_coll</td>\n",
       "      <td>1028.111939</td>\n",
       "    </tr>\n",
       "    <tr>\n",
       "      <th>4</th>\n",
       "      <td>log_av45</td>\n",
       "      <td>176.400668</td>\n",
       "    </tr>\n",
       "    <tr>\n",
       "      <th>5</th>\n",
       "      <td>ind_25_39</td>\n",
       "      <td>3215.013043</td>\n",
       "    </tr>\n",
       "    <tr>\n",
       "      <th>6</th>\n",
       "      <td>RER A</td>\n",
       "      <td>2067.008162</td>\n",
       "    </tr>\n",
       "    <tr>\n",
       "      <th>7</th>\n",
       "      <td>RER B</td>\n",
       "      <td>486.843444</td>\n",
       "    </tr>\n",
       "    <tr>\n",
       "      <th>8</th>\n",
       "      <td>RER C</td>\n",
       "      <td>-757.750728</td>\n",
       "    </tr>\n",
       "    <tr>\n",
       "      <th>9</th>\n",
       "      <td>RER D</td>\n",
       "      <td>-365.888688</td>\n",
       "    </tr>\n",
       "  </tbody>\n",
       "</table>\n",
       "</div>"
      ],
      "text/plain": [
       "     Feature  Coefficient\n",
       "0        men -8528.279411\n",
       "1   men_1ind  5565.617001\n",
       "2   men_pauv  2036.121318\n",
       "3   men_coll  1028.111939\n",
       "4   log_av45   176.400668\n",
       "5  ind_25_39  3215.013043\n",
       "6      RER A  2067.008162\n",
       "7      RER B   486.843444\n",
       "8      RER C  -757.750728\n",
       "9      RER D  -365.888688"
      ]
     },
     "execution_count": 40,
     "metadata": {},
     "output_type": "execute_result"
    }
   ],
   "source": [
    "coef_df"
   ]
  },
  {
   "cell_type": "code",
   "execution_count": 41,
   "id": "44eed1e5-002d-4c90-8d03-62965515d1af",
   "metadata": {},
   "outputs": [
    {
     "data": {
      "text/plain": [
       "5209.456618357489"
      ]
     },
     "execution_count": 41,
     "metadata": {},
     "output_type": "execute_result"
    }
   ],
   "source": [
    "pipe_lr.named_steps['regression'].intercept_"
   ]
  },
  {
   "cell_type": "markdown",
   "id": "353e48d8-98f3-4d79-8a4e-39af75bf2a35",
   "metadata": {},
   "source": [
    "Le modèle est particulièrement mauvais pour des valeurs de de `NB_VALD` très élevés. Les coefficients ne donnent pas une interprétation très évidente. Il y a, avec ce modèle, une corrélation négative entre le nombre de validations et le nombre de ménages présent dans le carreau Insee de 1km de la gare. Cela vient surement des autres variables prises en compte dans le modèle qui contiennent d'autres informations socio-démographiques.\n",
    "\n",
    "## Regression Lasso\n",
    "On réalise une regression Lasso sur l'ensemble des variables que nous avons à notre disposition afin de sélectionner les meilleures. Pour réduire la variabilité, on travaille avec des données aggrégées par stations (on enlève les différents jours et l'on cherche à prédure la fréquentation globale d'une station).\n",
    "### Préparation de la regression"
   ]
  },
  {
   "cell_type": "code",
   "execution_count": 43,
   "id": "e505c788-59c6-45fb-8099-3d187e5f60da",
   "metadata": {},
   "outputs": [],
   "source": [
    "data_stations = data.groupby('nom_long').agg(aggregation_functions)\n",
    "data_stations['RER A'] = data_stations['res_com'].apply(lambda x: 1 if x == 'RER A' else 0)\n",
    "data_stations['RER B'] = data_stations['res_com'].apply(lambda x: 1 if x == 'RER B' else 0)\n",
    "data_stations['RER C'] = data_stations['res_com'].apply(lambda x: 1 if x == 'RER C' else 0)\n",
    "data_stations['RER D'] = data_stations['res_com'].apply(lambda x: 1 if x == 'RER D' else 0)\n",
    "data_stations['RER E'] = data_stations['res_com'].apply(lambda x: 1 if x == 'RER E' else 0)"
   ]
  },
  {
   "cell_type": "code",
   "execution_count": 45,
   "id": "b8063bd4-70c6-41eb-8fa1-ce1cd6d329ef",
   "metadata": {},
   "outputs": [
    {
     "data": {
      "text/plain": [
       "array(['RER C', 'RER A', 'RER B', 'RER D', 'RER E', 'RER D, RER A',\n",
       "       'RER C, RER D', 'RER E, RER B, RER D', 'RER A, RER E'],\n",
       "      dtype=object)"
      ]
     },
     "execution_count": 45,
     "metadata": {},
     "output_type": "execute_result"
    }
   ],
   "source": [
    "data_stations['res_com'].unique()"
   ]
  },
  {
   "cell_type": "code",
   "execution_count": 46,
   "id": "91606783-0fcb-42ea-bfdd-6b11d4ceff74",
   "metadata": {},
   "outputs": [],
   "source": [
    "# Liste des valeurs pour lesquelles RER COR sera 1\n",
    "rer_cor_list = ['RER D, RER A','RER C, RER D', 'RER E, RER B, RER D', 'RER A, RER E']\n",
    "\n",
    "# Création de la colonne RER COR\n",
    "data_stations['RER COR'] = data_stations['res_com'].apply(lambda x: 1 if x in rer_cor_list else 0)"
   ]
  },
  {
   "cell_type": "code",
   "execution_count": 47,
   "id": "b0ff9947-0e3b-4539-8b39-801a72cfc0c5",
   "metadata": {},
   "outputs": [],
   "source": [
    "data_stations=data_stations[data_stations['RER COR']==0]"
   ]
  },
  {
   "cell_type": "code",
   "execution_count": 48,
   "id": "ecaac5ab-9276-4996-acb6-47b1cc121b80",
   "metadata": {},
   "outputs": [],
   "source": [
    "X_train_regression = X_train[FEATURES]\n",
    "X_test_regression = X_test[FEATURES]"
   ]
  },
  {
   "cell_type": "code",
   "execution_count": 49,
   "id": "f930fd2d-52c0-48f1-8e31-40c2794e5180",
   "metadata": {},
   "outputs": [],
   "source": [
    "CATEGORICAL_REGRESSION = [\"RER A\", \"RER B\", \"RER C\", \"RER D\", \"RER E\"]\n",
    "\n",
    "NUMERICAL_REGRESSION = ['men', 'men_pauv', 'men_1ind', 'men_5ind',\n",
    "                        'men_prop', 'men_fmp', 'ind_snv', 'men_surf', 'men_coll', \n",
    "                        'men_mais', 'log_av45', 'log_45_70', 'log_70_90', 'log_ap90', \n",
    "                        'log_inc', 'log_soc', 'ind_0_3', 'ind_4_5', 'ind_6_10', \n",
    "                        'ind_11_17', 'ind_18_24', 'ind_25_39','ind_40_54', 'ind_55_64', \n",
    "                        'ind_65_79', 'ind_80p',]\n",
    "\n",
    "FEATURES_REGRESSION = NUMERICAL_REGRESSION + CATEGORICAL_REGRESSION\n",
    "\n",
    "X_train_regression = X_train[FEATURES_REGRESSION]\n",
    "X_test_regression = X_test[FEATURES_REGRESSION]\n",
    "\n",
    "preprocessor_regression = ColumnTransformer(\n",
    "    transformers=[\n",
    "        (\"stand\", StandardScaler(), NUMERICAL_REGRESSION),\n",
    "        (\"cat\",  StandardScaler(), CATEGORICAL_REGRESSION)\n",
    "    ]\n",
    ")"
   ]
  },
  {
   "cell_type": "markdown",
   "id": "364cd3d7-1e24-4c16-b5aa-e3f2f4a03e27",
   "metadata": {},
   "source": [
    "### Choix du paramètre alpha optimal\n",
    "On cherche maintnenat le paramètre optimal pour notre regression Lasso avec la cross validation."
   ]
  },
  {
   "cell_type": "code",
   "execution_count": 50,
   "id": "a5ec5b96-26b4-403a-af7d-90db57891908",
   "metadata": {},
   "outputs": [],
   "source": [
    "pipe_lasso_cv = Pipeline([\n",
    "    ('preprocessor', preprocessor_regression),  # Première étape: réaliser le preprocessing\n",
    "    ('regression', LassoCV(cv=5, random_state=0))  # Seconde étape: régression Lasso avec sélection d'alpha via CV\n",
    "])"
   ]
  },
  {
   "cell_type": "code",
   "execution_count": 51,
   "id": "30dc2f9e-3ef6-4669-9377-608a90e12a60",
   "metadata": {},
   "outputs": [
    {
     "name": "stderr",
     "output_type": "stream",
     "text": [
      "/opt/mamba/lib/python3.10/site-packages/sklearn/linear_model/_coordinate_descent.py:614: ConvergenceWarning: Objective did not converge. You might want to increase the number of iterations. Duality gap: 83431139.9265747, tolerance: 66133032.99832927\n",
      "  model = cd_fast.enet_coordinate_descent_gram(\n",
      "/opt/mamba/lib/python3.10/site-packages/sklearn/linear_model/_coordinate_descent.py:614: ConvergenceWarning: Objective did not converge. You might want to increase the number of iterations. Duality gap: 172127571.06625366, tolerance: 66133032.99832927\n",
      "  model = cd_fast.enet_coordinate_descent_gram(\n",
      "/opt/mamba/lib/python3.10/site-packages/sklearn/linear_model/_coordinate_descent.py:614: ConvergenceWarning: Objective did not converge. You might want to increase the number of iterations. Duality gap: 244729625.62542725, tolerance: 66133032.99832927\n",
      "  model = cd_fast.enet_coordinate_descent_gram(\n",
      "/opt/mamba/lib/python3.10/site-packages/sklearn/linear_model/_coordinate_descent.py:614: ConvergenceWarning: Objective did not converge. You might want to increase the number of iterations. Duality gap: 202423371.53070068, tolerance: 66133032.99832927\n",
      "  model = cd_fast.enet_coordinate_descent_gram(\n",
      "/opt/mamba/lib/python3.10/site-packages/sklearn/linear_model/_coordinate_descent.py:614: ConvergenceWarning: Objective did not converge. You might want to increase the number of iterations. Duality gap: 258979359.57559204, tolerance: 66133032.99832927\n",
      "  model = cd_fast.enet_coordinate_descent_gram(\n",
      "/opt/mamba/lib/python3.10/site-packages/sklearn/linear_model/_coordinate_descent.py:614: ConvergenceWarning: Objective did not converge. You might want to increase the number of iterations. Duality gap: 378920512.05029297, tolerance: 66133032.99832927\n",
      "  model = cd_fast.enet_coordinate_descent_gram(\n",
      "/opt/mamba/lib/python3.10/site-packages/sklearn/linear_model/_coordinate_descent.py:614: ConvergenceWarning: Objective did not converge. You might want to increase the number of iterations. Duality gap: 75857978.43499756, tolerance: 65468097.697852604\n",
      "  model = cd_fast.enet_coordinate_descent_gram(\n",
      "/opt/mamba/lib/python3.10/site-packages/sklearn/linear_model/_coordinate_descent.py:614: ConvergenceWarning: Objective did not converge. You might want to increase the number of iterations. Duality gap: 240159905.8244629, tolerance: 65468097.697852604\n",
      "  model = cd_fast.enet_coordinate_descent_gram(\n",
      "/opt/mamba/lib/python3.10/site-packages/sklearn/linear_model/_coordinate_descent.py:614: ConvergenceWarning: Objective did not converge. You might want to increase the number of iterations. Duality gap: 183892750.37805176, tolerance: 65468097.697852604\n",
      "  model = cd_fast.enet_coordinate_descent_gram(\n",
      "/opt/mamba/lib/python3.10/site-packages/sklearn/linear_model/_coordinate_descent.py:614: ConvergenceWarning: Objective did not converge. You might want to increase the number of iterations. Duality gap: 185607713.600708, tolerance: 65468097.697852604\n",
      "  model = cd_fast.enet_coordinate_descent_gram(\n",
      "/opt/mamba/lib/python3.10/site-packages/sklearn/linear_model/_coordinate_descent.py:614: ConvergenceWarning: Objective did not converge. You might want to increase the number of iterations. Duality gap: 181379185.9088745, tolerance: 65468097.697852604\n",
      "  model = cd_fast.enet_coordinate_descent_gram(\n",
      "/opt/mamba/lib/python3.10/site-packages/sklearn/linear_model/_coordinate_descent.py:614: ConvergenceWarning: Objective did not converge. You might want to increase the number of iterations. Duality gap: 231509361.63253784, tolerance: 65468097.697852604\n",
      "  model = cd_fast.enet_coordinate_descent_gram(\n",
      "/opt/mamba/lib/python3.10/site-packages/sklearn/linear_model/_coordinate_descent.py:614: ConvergenceWarning: Objective did not converge. You might want to increase the number of iterations. Duality gap: 553977414.0100403, tolerance: 65468097.697852604\n",
      "  model = cd_fast.enet_coordinate_descent_gram(\n",
      "/opt/mamba/lib/python3.10/site-packages/sklearn/linear_model/_coordinate_descent.py:614: ConvergenceWarning: Objective did not converge. You might want to increase the number of iterations. Duality gap: 1066976120.4375916, tolerance: 65468097.697852604\n",
      "  model = cd_fast.enet_coordinate_descent_gram(\n",
      "/opt/mamba/lib/python3.10/site-packages/sklearn/linear_model/_coordinate_descent.py:614: ConvergenceWarning: Objective did not converge. You might want to increase the number of iterations. Duality gap: 163723541.07348633, tolerance: 65354693.94124347\n",
      "  model = cd_fast.enet_coordinate_descent_gram(\n",
      "/opt/mamba/lib/python3.10/site-packages/sklearn/linear_model/_coordinate_descent.py:614: ConvergenceWarning: Objective did not converge. You might want to increase the number of iterations. Duality gap: 148791540.7216797, tolerance: 65354693.94124347\n",
      "  model = cd_fast.enet_coordinate_descent_gram(\n",
      "/opt/mamba/lib/python3.10/site-packages/sklearn/linear_model/_coordinate_descent.py:614: ConvergenceWarning: Objective did not converge. You might want to increase the number of iterations. Duality gap: 315413765.72454834, tolerance: 65354693.94124347\n",
      "  model = cd_fast.enet_coordinate_descent_gram(\n",
      "/opt/mamba/lib/python3.10/site-packages/sklearn/linear_model/_coordinate_descent.py:614: ConvergenceWarning: Objective did not converge. You might want to increase the number of iterations. Duality gap: 611887839.7410889, tolerance: 65354693.94124347\n",
      "  model = cd_fast.enet_coordinate_descent_gram(\n",
      "/opt/mamba/lib/python3.10/site-packages/sklearn/linear_model/_coordinate_descent.py:614: ConvergenceWarning: Objective did not converge. You might want to increase the number of iterations. Duality gap: 1027464958.3300781, tolerance: 65354693.94124347\n",
      "  model = cd_fast.enet_coordinate_descent_gram(\n",
      "/opt/mamba/lib/python3.10/site-packages/sklearn/linear_model/_coordinate_descent.py:614: ConvergenceWarning: Objective did not converge. You might want to increase the number of iterations. Duality gap: 1407855449.010376, tolerance: 65354693.94124347\n",
      "  model = cd_fast.enet_coordinate_descent_gram(\n",
      "/opt/mamba/lib/python3.10/site-packages/sklearn/linear_model/_coordinate_descent.py:614: ConvergenceWarning: Objective did not converge. You might want to increase the number of iterations. Duality gap: 187105566.07855225, tolerance: 64788832.98632594\n",
      "  model = cd_fast.enet_coordinate_descent_gram(\n",
      "/opt/mamba/lib/python3.10/site-packages/sklearn/linear_model/_coordinate_descent.py:614: ConvergenceWarning: Objective did not converge. You might want to increase the number of iterations. Duality gap: 79974361.12661743, tolerance: 64788832.98632594\n",
      "  model = cd_fast.enet_coordinate_descent_gram(\n",
      "/opt/mamba/lib/python3.10/site-packages/sklearn/linear_model/_coordinate_descent.py:614: ConvergenceWarning: Objective did not converge. You might want to increase the number of iterations. Duality gap: 327260984.0588074, tolerance: 64788832.98632594\n",
      "  model = cd_fast.enet_coordinate_descent_gram(\n",
      "/opt/mamba/lib/python3.10/site-packages/sklearn/linear_model/_coordinate_descent.py:614: ConvergenceWarning: Objective did not converge. You might want to increase the number of iterations. Duality gap: 947904147.3382874, tolerance: 64788832.98632594\n",
      "  model = cd_fast.enet_coordinate_descent_gram(\n",
      "/opt/mamba/lib/python3.10/site-packages/sklearn/linear_model/_coordinate_descent.py:614: ConvergenceWarning: Objective did not converge. You might want to increase the number of iterations. Duality gap: 1220421797.698822, tolerance: 64788832.98632594\n",
      "  model = cd_fast.enet_coordinate_descent_gram(\n",
      "/opt/mamba/lib/python3.10/site-packages/sklearn/linear_model/_coordinate_descent.py:614: ConvergenceWarning: Objective did not converge. You might want to increase the number of iterations. Duality gap: 166316202.5614624, tolerance: 65736469.77923828\n",
      "  model = cd_fast.enet_coordinate_descent_gram(\n",
      "/opt/mamba/lib/python3.10/site-packages/sklearn/linear_model/_coordinate_descent.py:614: ConvergenceWarning: Objective did not converge. You might want to increase the number of iterations. Duality gap: 161514070.92614746, tolerance: 65736469.77923828\n",
      "  model = cd_fast.enet_coordinate_descent_gram(\n",
      "/opt/mamba/lib/python3.10/site-packages/sklearn/linear_model/_coordinate_descent.py:614: ConvergenceWarning: Objective did not converge. You might want to increase the number of iterations. Duality gap: 140640494.8892212, tolerance: 65736469.77923828\n",
      "  model = cd_fast.enet_coordinate_descent_gram(\n",
      "/opt/mamba/lib/python3.10/site-packages/sklearn/linear_model/_coordinate_descent.py:614: ConvergenceWarning: Objective did not converge. You might want to increase the number of iterations. Duality gap: 241365911.42895508, tolerance: 65736469.77923828\n",
      "  model = cd_fast.enet_coordinate_descent_gram(\n",
      "/opt/mamba/lib/python3.10/site-packages/sklearn/linear_model/_coordinate_descent.py:614: ConvergenceWarning: Objective did not converge. You might want to increase the number of iterations. Duality gap: 199817803.83618164, tolerance: 65736469.77923828\n",
      "  model = cd_fast.enet_coordinate_descent_gram(\n",
      "/opt/mamba/lib/python3.10/site-packages/sklearn/linear_model/_coordinate_descent.py:614: ConvergenceWarning: Objective did not converge. You might want to increase the number of iterations. Duality gap: 257041740.7748108, tolerance: 65736469.77923828\n",
      "  model = cd_fast.enet_coordinate_descent_gram(\n",
      "/opt/mamba/lib/python3.10/site-packages/sklearn/linear_model/_coordinate_descent.py:614: ConvergenceWarning: Objective did not converge. You might want to increase the number of iterations. Duality gap: 587166720.0893555, tolerance: 65736469.77923828\n",
      "  model = cd_fast.enet_coordinate_descent_gram(\n",
      "/opt/mamba/lib/python3.10/site-packages/sklearn/linear_model/_coordinate_descent.py:614: ConvergenceWarning: Objective did not converge. You might want to increase the number of iterations. Duality gap: 1082442744.6398926, tolerance: 65736469.77923828\n",
      "  model = cd_fast.enet_coordinate_descent_gram(\n"
     ]
    },
    {
     "name": "stdout",
     "output_type": "stream",
     "text": [
      "Meilleur alpha trouvé: 3.8143065567894596\n"
     ]
    },
    {
     "name": "stderr",
     "output_type": "stream",
     "text": [
      "/opt/mamba/lib/python3.10/site-packages/sklearn/linear_model/_coordinate_descent.py:628: ConvergenceWarning: Objective did not converge. You might want to increase the number of iterations, check the scale of the features or consider increasing regularisation. Duality gap: 8.278e+10, tolerance: 8.187e+07\n",
      "  model = cd_fast.enet_coordinate_descent(\n"
     ]
    }
   ],
   "source": [
    "pipe_lasso_cv.fit(X_train, y_train)\n",
    "\n",
    "# Accéder au meilleur alpha et au modèle entraîné\n",
    "best_alpha = pipe_lasso_cv.named_steps['regression'].alpha_\n",
    "print(\"Meilleur alpha trouvé:\", best_alpha)"
   ]
  },
  {
   "cell_type": "markdown",
   "id": "74f8522f-69cb-4a77-8211-3086d38d5149",
   "metadata": {},
   "source": [
    "### Réalisation de la régression et évaluation du modèle "
   ]
  },
  {
   "cell_type": "code",
   "execution_count": 52,
   "id": "83d871e9-adcf-406b-94bc-7aad461f4eac",
   "metadata": {},
   "outputs": [],
   "source": [
    "pipe_lasso = Pipeline([\n",
    "    ('preprocessor', preprocessor_regression), # 1ère étape réaliser le preprocessing\n",
    "    ('regression', Lasso(alpha=best_alpha)) # 2ème étape estime notre régression linéaire\n",
    "])"
   ]
  },
  {
   "cell_type": "code",
   "execution_count": 53,
   "id": "5482dddb-7213-4c6e-90cb-242cbafcbd88",
   "metadata": {},
   "outputs": [
    {
     "name": "stdout",
     "output_type": "stream",
     "text": [
      "Le RMSE sur le jeu de test est : 4173.5659\n",
      "Le R2 sur le jeu de test est : 0.5522\n"
     ]
    },
    {
     "name": "stderr",
     "output_type": "stream",
     "text": [
      "/opt/mamba/lib/python3.10/site-packages/sklearn/linear_model/_coordinate_descent.py:628: ConvergenceWarning: Objective did not converge. You might want to increase the number of iterations, check the scale of the features or consider increasing regularisation. Duality gap: 8.278e+10, tolerance: 8.187e+07\n",
      "  model = cd_fast.enet_coordinate_descent(\n"
     ]
    }
   ],
   "source": [
    "#modèle de regression\n",
    "lr = pipe_lasso.fit(X_train_regression, y_train)\n",
    "coefficients = pipe_lr.named_steps['regression'].coef_\n",
    "column_names = X_train_regression.columns\n",
    "\n",
    "#prediction\n",
    "y_pred = lr.predict(X_test_regression)\n",
    "\n",
    "#calcul des indicateurs\n",
    "rmse = np.sqrt(mean_squared_error(y_test, y_pred))\n",
    "r2 = r2_score(y_test, y_pred)\n",
    "print(f\"Le RMSE sur le jeu de test est : {round(rmse, 4)}\")\n",
    "print(f\"Le R2 sur le jeu de test est : {round(r2, 4)}\")"
   ]
  },
  {
   "cell_type": "code",
   "execution_count": 54,
   "id": "b4dbc115-74cc-46b8-8f3b-185e593616e3",
   "metadata": {},
   "outputs": [
    {
     "data": {
      "text/html": [
       "<div>\n",
       "<style scoped>\n",
       "    .dataframe tbody tr th:only-of-type {\n",
       "        vertical-align: middle;\n",
       "    }\n",
       "\n",
       "    .dataframe tbody tr th {\n",
       "        vertical-align: top;\n",
       "    }\n",
       "\n",
       "    .dataframe thead th {\n",
       "        text-align: right;\n",
       "    }\n",
       "</style>\n",
       "<table border=\"1\" class=\"dataframe\">\n",
       "  <thead>\n",
       "    <tr style=\"text-align: right;\">\n",
       "      <th></th>\n",
       "      <th>Feature</th>\n",
       "      <th>Coefficient</th>\n",
       "    </tr>\n",
       "  </thead>\n",
       "  <tbody>\n",
       "    <tr>\n",
       "      <th>0</th>\n",
       "      <td>men</td>\n",
       "      <td>-0.000000</td>\n",
       "    </tr>\n",
       "    <tr>\n",
       "      <th>1</th>\n",
       "      <td>men_pauv</td>\n",
       "      <td>1579.435949</td>\n",
       "    </tr>\n",
       "    <tr>\n",
       "      <th>2</th>\n",
       "      <td>men_1ind</td>\n",
       "      <td>-3701.639957</td>\n",
       "    </tr>\n",
       "    <tr>\n",
       "      <th>3</th>\n",
       "      <td>men_5ind</td>\n",
       "      <td>-1419.593500</td>\n",
       "    </tr>\n",
       "    <tr>\n",
       "      <th>4</th>\n",
       "      <td>men_prop</td>\n",
       "      <td>-392.114984</td>\n",
       "    </tr>\n",
       "    <tr>\n",
       "      <th>5</th>\n",
       "      <td>men_fmp</td>\n",
       "      <td>-7245.435794</td>\n",
       "    </tr>\n",
       "    <tr>\n",
       "      <th>6</th>\n",
       "      <td>ind_snv</td>\n",
       "      <td>-10858.750760</td>\n",
       "    </tr>\n",
       "    <tr>\n",
       "      <th>7</th>\n",
       "      <td>men_surf</td>\n",
       "      <td>0.000000</td>\n",
       "    </tr>\n",
       "    <tr>\n",
       "      <th>8</th>\n",
       "      <td>men_coll</td>\n",
       "      <td>14868.082612</td>\n",
       "    </tr>\n",
       "    <tr>\n",
       "      <th>9</th>\n",
       "      <td>men_mais</td>\n",
       "      <td>670.608848</td>\n",
       "    </tr>\n",
       "    <tr>\n",
       "      <th>10</th>\n",
       "      <td>log_av45</td>\n",
       "      <td>2960.320726</td>\n",
       "    </tr>\n",
       "    <tr>\n",
       "      <th>11</th>\n",
       "      <td>log_45_70</td>\n",
       "      <td>-1283.947222</td>\n",
       "    </tr>\n",
       "    <tr>\n",
       "      <th>12</th>\n",
       "      <td>log_70_90</td>\n",
       "      <td>-466.612246</td>\n",
       "    </tr>\n",
       "    <tr>\n",
       "      <th>13</th>\n",
       "      <td>log_ap90</td>\n",
       "      <td>1028.202445</td>\n",
       "    </tr>\n",
       "    <tr>\n",
       "      <th>14</th>\n",
       "      <td>log_inc</td>\n",
       "      <td>230.065553</td>\n",
       "    </tr>\n",
       "    <tr>\n",
       "      <th>15</th>\n",
       "      <td>log_soc</td>\n",
       "      <td>135.735378</td>\n",
       "    </tr>\n",
       "    <tr>\n",
       "      <th>16</th>\n",
       "      <td>ind_0_3</td>\n",
       "      <td>3049.056268</td>\n",
       "    </tr>\n",
       "    <tr>\n",
       "      <th>17</th>\n",
       "      <td>ind_4_5</td>\n",
       "      <td>-24.482256</td>\n",
       "    </tr>\n",
       "    <tr>\n",
       "      <th>18</th>\n",
       "      <td>ind_6_10</td>\n",
       "      <td>2234.586939</td>\n",
       "    </tr>\n",
       "    <tr>\n",
       "      <th>19</th>\n",
       "      <td>ind_11_17</td>\n",
       "      <td>0.000000</td>\n",
       "    </tr>\n",
       "    <tr>\n",
       "      <th>20</th>\n",
       "      <td>ind_18_24</td>\n",
       "      <td>2766.358119</td>\n",
       "    </tr>\n",
       "    <tr>\n",
       "      <th>21</th>\n",
       "      <td>ind_25_39</td>\n",
       "      <td>-4028.825179</td>\n",
       "    </tr>\n",
       "    <tr>\n",
       "      <th>22</th>\n",
       "      <td>ind_40_54</td>\n",
       "      <td>-2515.743700</td>\n",
       "    </tr>\n",
       "    <tr>\n",
       "      <th>23</th>\n",
       "      <td>ind_55_64</td>\n",
       "      <td>4670.988080</td>\n",
       "    </tr>\n",
       "    <tr>\n",
       "      <th>24</th>\n",
       "      <td>ind_65_79</td>\n",
       "      <td>-2955.304185</td>\n",
       "    </tr>\n",
       "    <tr>\n",
       "      <th>25</th>\n",
       "      <td>ind_80p</td>\n",
       "      <td>4565.603305</td>\n",
       "    </tr>\n",
       "    <tr>\n",
       "      <th>26</th>\n",
       "      <td>RER A</td>\n",
       "      <td>1690.002192</td>\n",
       "    </tr>\n",
       "    <tr>\n",
       "      <th>27</th>\n",
       "      <td>RER B</td>\n",
       "      <td>137.377158</td>\n",
       "    </tr>\n",
       "    <tr>\n",
       "      <th>28</th>\n",
       "      <td>RER C</td>\n",
       "      <td>-942.927005</td>\n",
       "    </tr>\n",
       "    <tr>\n",
       "      <th>29</th>\n",
       "      <td>RER D</td>\n",
       "      <td>-568.531149</td>\n",
       "    </tr>\n",
       "    <tr>\n",
       "      <th>30</th>\n",
       "      <td>RER E</td>\n",
       "      <td>0.000000</td>\n",
       "    </tr>\n",
       "  </tbody>\n",
       "</table>\n",
       "</div>"
      ],
      "text/plain": [
       "      Feature   Coefficient\n",
       "0         men     -0.000000\n",
       "1    men_pauv   1579.435949\n",
       "2    men_1ind  -3701.639957\n",
       "3    men_5ind  -1419.593500\n",
       "4    men_prop   -392.114984\n",
       "5     men_fmp  -7245.435794\n",
       "6     ind_snv -10858.750760\n",
       "7    men_surf      0.000000\n",
       "8    men_coll  14868.082612\n",
       "9    men_mais    670.608848\n",
       "10   log_av45   2960.320726\n",
       "11  log_45_70  -1283.947222\n",
       "12  log_70_90   -466.612246\n",
       "13   log_ap90   1028.202445\n",
       "14    log_inc    230.065553\n",
       "15    log_soc    135.735378\n",
       "16    ind_0_3   3049.056268\n",
       "17    ind_4_5    -24.482256\n",
       "18   ind_6_10   2234.586939\n",
       "19  ind_11_17      0.000000\n",
       "20  ind_18_24   2766.358119\n",
       "21  ind_25_39  -4028.825179\n",
       "22  ind_40_54  -2515.743700\n",
       "23  ind_55_64   4670.988080\n",
       "24  ind_65_79  -2955.304185\n",
       "25    ind_80p   4565.603305\n",
       "26      RER A   1690.002192\n",
       "27      RER B    137.377158\n",
       "28      RER C   -942.927005\n",
       "29      RER D   -568.531149\n",
       "30      RER E      0.000000"
      ]
     },
     "execution_count": 54,
     "metadata": {},
     "output_type": "execute_result"
    }
   ],
   "source": [
    "coefficients=pipe_lasso.named_steps['regression'].coef_\n",
    "column_names=X_train_regression.columns\n",
    "coef_df = pd.DataFrame({\n",
    "    'Feature': column_names,\n",
    "    'Coefficient': coefficients\n",
    "})\n",
    "coef_df"
   ]
  },
  {
   "cell_type": "code",
   "execution_count": 55,
   "id": "85cc2784-143e-43b8-b8c3-0712548e5b63",
   "metadata": {},
   "outputs": [
    {
     "data": {
      "text/plain": [
       "5209.456618357488"
      ]
     },
     "execution_count": 55,
     "metadata": {},
     "output_type": "execute_result"
    }
   ],
   "source": [
    "pipe_lasso.named_steps['regression'].intercept_"
   ]
  },
  {
   "cell_type": "markdown",
   "id": "3fbdfcf8-66f7-49e0-9cba-1af80f0a913b",
   "metadata": {},
   "source": [
    "Le R² et le RMSE sont meilleurs, mais pas non plus améliorés de manière significative. Néanmoins les prédictions ne sont pas encore très bonnes.\n",
    "\n",
    "On remarque que le *lasso* n'a forcé qu'une seule variable à 0 : `ind_snv` (somme des revenus winsorisés). Il semble donc que les revenus associés aux résidents les plus proches des stations de *RER* ne joue pas dans la prédiction de la fréquentation avec les autres variables que nous avons à notre disposition. La très forte corrélation entre les variables socio-démographiques de l'Insee explique le fait que le lasso a du mal a choisir tels ou tels variables (et donc à en exclure)."
   ]
  },
  {
   "cell_type": "code",
   "execution_count": 56,
   "id": "429a727f-e517-4583-b22f-c097f3339053",
   "metadata": {},
   "outputs": [
    {
     "data": {
      "image/png": "[encoded data removed]",
      "text/plain": [
       "<Figure size 640x480 with 1 Axes>"
      ]
     },
     "metadata": {},
     "output_type": "display_data"
    }
   ],
   "source": [
    "plt.scatter(y_test, y_pred, color='blue', alpha=0.5)\n",
    "\n",
    "plt.xlabel('Nombres de validations réels')\n",
    "plt.ylabel('Nombres de validations prédits')\n",
    "\n",
    "plt.plot([y_test.min(), y_test.max()], [y_test.min(), y_test.max()], color='red', linestyle='--')\n",
    "plt.show()"
   ]
  },
  {
   "cell_type": "markdown",
   "id": "b3341095-59d0-4748-8c8b-d9885d242f13",
   "metadata": {},
   "source": [
    "En observant ce graphique on observe bien que les prédictions ne sont pas très bonnes pour les nombres de validations importants, bien que meilleures que dans le cadre de la première regression.\n",
    "\n",
    "D'autres méthodes de *machine learning* pourraient peut-être permettre de faire mieux, mais au vu de la complexité des données et des très nombreuses interractifs sur des territoires aussi denses, il est difficile de faire de bonnes prédictions de fréquentation. \n",
    "\n",
    "Nous pouvons noter plusieurs limites à notre approches :\n",
    "* Nous n'utilisons que les données de validations des abonnements ;\n",
    "* Les données socio-démographiques ne concernent que le carreau de 1km autour de la gare : on peut penser que la sphère d'influence est un peu plus importante dans les stations de *RER*, particulièrement dans les stations éloignées de Paris, tandis que pour les stations dans Paris cela est peut-être déjà bien trop grand ;\n",
    "* Les données sociodémographiques pourraient être enrichies pour mieux saisir la spécificité des territoires."
   ]
  }
 ],
 "metadata": {
  "kernelspec": {
   "display_name": "Python 3 (ipykernel)",
   "language": "python",
   "name": "python3"
  },
  "language_info": {
   "codemirror_mode": {
    "name": "ipython",
    "version": 3
   },
   "file_extension": ".py",
   "mimetype": "text/x-python",
   "name": "python",
   "nbconvert_exporter": "python",
   "pygments_lexer": "ipython3",
   "version": "3.10.13"
  }
 },
 "nbformat": 4,
 "nbformat_minor": 5
}
